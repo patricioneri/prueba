{
 "cells": [
  {
   "cell_type": "markdown",
   "id": "8c87bca4",
   "metadata": {},
   "source": [
    "\n",
    "<h1 style=\"font-family: 'Lucida Sans', 'Lucida Sans Regular', 'Lucida Grande', 'Lucida Sans Unicode', Geneva, Verdana, sans-serif; text-align: center; color: #3A405A;\">📊 Segmentación de Factores de riesgo vial</h1>\n",
    "<h3 style=\"font-family: 'Lucida Sans', 'Lucida Sans Regular', 'Lucida Grande', 'Lucida Sans Unicode', Geneva, Verdana, sans-serif; text-align: center; color: #6B6E70;\"></h3>\n",
    "\n",
    "<div style=\"background-color: #F2F3F4; padding: 20px; border-radius: 10px;\">\n",
    "    <p style=\"font-size: 20px; font-family: 'Verdana'; color: #3A405A; text-align: center;\">El objetivo del proyecto es aplicar modelos de aprendizaje no supervisado, para segmentar y analizar grupos de choferes de motovehiculos basandose en factores de riesgo viales.</p>\n",
    "    \n",
    "<p style=\"font-size: 14px; font-family: 'Verdana'; color: #3A405A; text-align: center;\">Autor: Patricio Garcia</p>\n",
    "\n",
    "\n",
    "\n",
    "    \n",
    "</div>\n"
   ]
  },
  {
   "cell_type": "markdown",
   "id": "c5521ca5",
   "metadata": {},
   "source": [
    "<div style=\"background-color: #E8EAF6; padding: 20px; border-radius: 10px; box-shadow: 2px 2px 10px rgba(0, 0, 0, 0.1);\">\n",
    "        <h2 style=\"font-family: 'Verdana'; color: #3A405A;\">🔍 Información sobre los datos</h2>\n",
    "    <p style=\"font-size: 18px; font-family: 'Verdana'; color: #3A405A; line-height: 1.5em;\">El dataset fue tomado de los datos publicados por la ciudad de Buenos Aires. El mismo contiene información sobre motovehiculos y factores de riesgo registrados en el año 2022.\n",
    "    \n",
    "  <p style=\"font-size: 10px; font-family: 'Verdana'; color: #3A405A;\"></p>\n",
    "</div>"
   ]
  },
  {
   "attachments": {},
   "cell_type": "markdown",
   "id": "3e148883",
   "metadata": {},
   "source": [
    "<div style=\"background-color: #F2F3F4; padding: 20px; border-radius: 10px;\">\n",
    "\n",
    "\n",
    "<h3 style=\"font-family: 'Lucida Sans', 'Lucida Sans Regular', 'Lucida Grande', 'Lucida Sans Unicode', Geneva, Verdana, sans-serif; text-align: center; color: #6B6E70;\">Descripción del datasaet</h3>\n",
    "\n",
    "- **Fuente**: https://data.buenosaires.gob.ar/dataset/estudio-observacional-factores-riesgo-vial/resource/0d9c3972-659b-413d-9f24-c63715973d59 <br>\n",
    "    \n",
    "    \n",
    "- **Diccionario de observaciones**: https://data.buenosaires.gob.ar/dataset/estudio-observacional-factores-riesgo-vial/resource/136fb594-4665-4fc6-88b1-efda150a450c\n",
    "    \n",
    "    \n",
    "- **Variables**:\n",
    "    \n",
    "  -Norden: Código identificador de la observación\n",
    "    \n",
    "  -Fecha_Inicial: Fecha (AAAA-MM-DD) de inicio de la observación\n",
    "    \n",
    "  -Hora_Inicio: Hora (HH:MM:SS) de inicio de la observación\n",
    "    \n",
    "  -Fecha_Fin: Fecha (AAAA-MM-DD) del fin de la observación\n",
    "    \n",
    "  -Hora_Fin: Hora (HH:MM:SS) del fin de la observación\n",
    "    \n",
    "  -Dia_Habil: Indica si el día del operativo en el cual se hizo la observación es hábil o fin de semana \t\n",
    "    \n",
    "  -Turno: Indica el momento del día en que se realizó la observación\n",
    "    \n",
    "  -Punto_observacion: Contiene la intersección de calles y/o avenidas donde se hizo la observación.\n",
    "\n",
    "  -Zona: Indica la zona a la cual pertenece el punto de observación dentro de la CABA\n",
    "    \n",
    "  -Uso: Indica si la moto o ciclomotor es de uso particular o comercial\n",
    "    \n",
    "  -Sexo: Indica el género del conductor de la moto o ciclomotor a partir de la observación visual\n",
    "    \n",
    "  -Casco_Conductor: Indica si el conductor lleva puesto correctamente el casco\n",
    "    \n",
    "  -Tipo_Distraccion: Señala si el conductor de la moto o ciclomotor tiene algún tipo de distracción mientras espera en el semáforo\n",
    "    \n",
    "  -Pasajero: En el caso de haber un acompañante se indica el grupo etario al cual pertenece\n",
    "    \n",
    "  -Sexo_Pasajero: Indica el género del pasajero a partir de la observación visual\t\n",
    "    \n",
    "  -Casco_Pasajero: Indica si el acompañante lleva puesto correctamente el casco\n",
    "    \n",
    "  -Tiene_Patente: Señala si el vehículo poseía patente en su lugar y condiciones determinadas por Ley\n",
    "    \n",
    "  -Patente_Mercosur: Indica si la moto o ciclomotor posee patente única del Mercosur\n",
    "    \n",
    "  -Antiguedad: Estima la antigüedad del vehículo a partir del tipo de patente observada\n",
    "    \n",
    "  -Cantidad_Ocupantes: Indica la cantidad de ocupantes encima de la moto o ciclomotor\t\n",
    "    \n",
    "  -Uso_Casco: Señala si todos los ocupantes del vehículo tienen y utilizan correctamente el casco\n",
    "\n",
    "    \n",
    "    "
   ]
  },
  {
   "cell_type": "markdown",
   "id": "829fdbc6",
   "metadata": {},
   "source": [
    "<h1 style=\"font-family: 'Lucida Sans', 'Lucida Sans Regular', 'Lucida Grande', 'Lucida Sans Unicode', Geneva, Verdana, sans-serif; text-align: center; color: #3A405A;\">📊 Importación de librerias y lectura de datos</h1>\n",
    "\n",
    "<br>\n",
    "\n",
    "<div style=\"background-color: #E8EAF6; padding: 20px; border-radius: 10px; box-shadow: 2px 2px 10px rgba(0, 0, 0, 0.1);\">\n",
    "    <p style=\"font-size: 18px; font-family: 'Verdana'; color: #3A405A; line-height: 1.5em;\">Se importan las librerias a utilizar durante el proyecto, se leen y guardan los datos.</p>\n",
    "</div>"
   ]
  },
  {
   "cell_type": "markdown",
   "id": "73660f74",
   "metadata": {},
   "source": [
    "Se importan librerias que se usan en el proyecto."
   ]
  },
  {
   "cell_type": "code",
   "execution_count": 124,
   "id": "66d3fad2",
   "metadata": {},
   "outputs": [],
   "source": [
    "import pandas as pd\n",
    "import numpy as np\n",
    "import matplotlib.pyplot as plt\n",
    "import seaborn as sns\n",
    "from sklearn.preprocessing import StandardScaler\n",
    "import AA_utils\n",
    "from sklearn.metrics import silhouette_score\n",
    "\n",
    "import warnings\n",
    "warnings.filterwarnings('ignore')"
   ]
  },
  {
   "cell_type": "markdown",
   "id": "4352b2af",
   "metadata": {},
   "source": [
    "Se abre el dataset y guardan datos."
   ]
  },
  {
   "cell_type": "code",
   "execution_count": 125,
   "id": "0b1d55ef",
   "metadata": {},
   "outputs": [],
   "source": [
    "# url = r'C:\\Users\\usuario\\Desktop\\Data Science\\Proyectos\\Segmentacion accidentes motos\\base_obs_motos_2022.xlsx'\n",
    "# raw_data = pd.read_excel(url)\n",
    "raw_data = pd.read_excel(r'base_obs_motos_2022.xlsx')\n"
   ]
  },
  {
   "cell_type": "markdown",
   "id": "983f60d9",
   "metadata": {},
   "source": [
    "Se imprimen las primeras observaciones del dataset."
   ]
  },
  {
   "cell_type": "code",
   "execution_count": 126,
   "id": "52ab7923",
   "metadata": {
    "scrolled": true
   },
   "outputs": [
    {
     "data": {
      "text/html": [
       "<div>\n",
       "<style scoped>\n",
       "    .dataframe tbody tr th:only-of-type {\n",
       "        vertical-align: middle;\n",
       "    }\n",
       "\n",
       "    .dataframe tbody tr th {\n",
       "        vertical-align: top;\n",
       "    }\n",
       "\n",
       "    .dataframe thead th {\n",
       "        text-align: right;\n",
       "    }\n",
       "</style>\n",
       "<table border=\"1\" class=\"dataframe\">\n",
       "  <thead>\n",
       "    <tr style=\"text-align: right;\">\n",
       "      <th></th>\n",
       "      <th>Norden</th>\n",
       "      <th>Fecha_Inicial</th>\n",
       "      <th>Hora_Inicio</th>\n",
       "      <th>Fecha_Fin</th>\n",
       "      <th>Hora_Fin</th>\n",
       "      <th>Dia_Habil</th>\n",
       "      <th>Turno</th>\n",
       "      <th>Punto_observacion</th>\n",
       "      <th>Zona</th>\n",
       "      <th>Uso</th>\n",
       "      <th>...</th>\n",
       "      <th>Casco_Conductor</th>\n",
       "      <th>Tipo_Distraccion</th>\n",
       "      <th>Pasajero</th>\n",
       "      <th>Sexo_Pasajero</th>\n",
       "      <th>Casco_Pasajero</th>\n",
       "      <th>Tiene_Patente</th>\n",
       "      <th>Patente_Mercosur</th>\n",
       "      <th>Antiguedad</th>\n",
       "      <th>Cantidad_Ocupantes</th>\n",
       "      <th>Uso_Casco</th>\n",
       "    </tr>\n",
       "  </thead>\n",
       "  <tbody>\n",
       "    <tr>\n",
       "      <th>0</th>\n",
       "      <td>1</td>\n",
       "      <td>2022-10-25</td>\n",
       "      <td>15:50:12</td>\n",
       "      <td>2022-10-25</td>\n",
       "      <td>15:53:06</td>\n",
       "      <td>1</td>\n",
       "      <td>2</td>\n",
       "      <td>AV. CORRIENTES Y AV. DORREGO</td>\n",
       "      <td>3</td>\n",
       "      <td>1</td>\n",
       "      <td>...</td>\n",
       "      <td>1</td>\n",
       "      <td>1</td>\n",
       "      <td>NaN</td>\n",
       "      <td>NaN</td>\n",
       "      <td>NaN</td>\n",
       "      <td>1</td>\n",
       "      <td>2</td>\n",
       "      <td>2</td>\n",
       "      <td>1</td>\n",
       "      <td>1</td>\n",
       "    </tr>\n",
       "    <tr>\n",
       "      <th>1</th>\n",
       "      <td>2</td>\n",
       "      <td>2022-10-25</td>\n",
       "      <td>15:53:16</td>\n",
       "      <td>2022-10-25</td>\n",
       "      <td>15:59:06</td>\n",
       "      <td>1</td>\n",
       "      <td>2</td>\n",
       "      <td>AV. MONTES DE OCA Y ARISTOBULO DEL VALLE</td>\n",
       "      <td>4</td>\n",
       "      <td>1</td>\n",
       "      <td>...</td>\n",
       "      <td>1</td>\n",
       "      <td>4</td>\n",
       "      <td>NaN</td>\n",
       "      <td>NaN</td>\n",
       "      <td>NaN</td>\n",
       "      <td>1</td>\n",
       "      <td>1</td>\n",
       "      <td>1</td>\n",
       "      <td>1</td>\n",
       "      <td>1</td>\n",
       "    </tr>\n",
       "    <tr>\n",
       "      <th>2</th>\n",
       "      <td>3</td>\n",
       "      <td>2022-10-25</td>\n",
       "      <td>08:19:26</td>\n",
       "      <td>2022-10-25</td>\n",
       "      <td>09:07:37</td>\n",
       "      <td>1</td>\n",
       "      <td>1</td>\n",
       "      <td>AV. NAZCA Y AV. JUAN B. JUSTO</td>\n",
       "      <td>3</td>\n",
       "      <td>1</td>\n",
       "      <td>...</td>\n",
       "      <td>1</td>\n",
       "      <td>4</td>\n",
       "      <td>NaN</td>\n",
       "      <td>NaN</td>\n",
       "      <td>NaN</td>\n",
       "      <td>1</td>\n",
       "      <td>1</td>\n",
       "      <td>1</td>\n",
       "      <td>1</td>\n",
       "      <td>1</td>\n",
       "    </tr>\n",
       "    <tr>\n",
       "      <th>3</th>\n",
       "      <td>4</td>\n",
       "      <td>2022-10-25</td>\n",
       "      <td>08:56:21</td>\n",
       "      <td>2022-10-25</td>\n",
       "      <td>08:56:37</td>\n",
       "      <td>1</td>\n",
       "      <td>1</td>\n",
       "      <td>AV. EMILIO CASTRO Y CORVALAN</td>\n",
       "      <td>1</td>\n",
       "      <td>1</td>\n",
       "      <td>...</td>\n",
       "      <td>1</td>\n",
       "      <td>4</td>\n",
       "      <td>NaN</td>\n",
       "      <td>NaN</td>\n",
       "      <td>NaN</td>\n",
       "      <td>1</td>\n",
       "      <td>1</td>\n",
       "      <td>1</td>\n",
       "      <td>1</td>\n",
       "      <td>1</td>\n",
       "    </tr>\n",
       "    <tr>\n",
       "      <th>4</th>\n",
       "      <td>5</td>\n",
       "      <td>2022-10-25</td>\n",
       "      <td>08:56:44</td>\n",
       "      <td>2022-10-25</td>\n",
       "      <td>09:00:53</td>\n",
       "      <td>1</td>\n",
       "      <td>1</td>\n",
       "      <td>AV. DEL LIBERTADOR Y ARIAS</td>\n",
       "      <td>1</td>\n",
       "      <td>1</td>\n",
       "      <td>...</td>\n",
       "      <td>1</td>\n",
       "      <td>4</td>\n",
       "      <td>NaN</td>\n",
       "      <td>NaN</td>\n",
       "      <td>NaN</td>\n",
       "      <td>1</td>\n",
       "      <td>2</td>\n",
       "      <td>2</td>\n",
       "      <td>1</td>\n",
       "      <td>1</td>\n",
       "    </tr>\n",
       "  </tbody>\n",
       "</table>\n",
       "<p>5 rows × 21 columns</p>\n",
       "</div>"
      ],
      "text/plain": [
       "   Norden Fecha_Inicial Hora_Inicio  Fecha_Fin  Hora_Fin  Dia_Habil  Turno  \\\n",
       "0       1    2022-10-25    15:50:12 2022-10-25  15:53:06          1      2   \n",
       "1       2    2022-10-25    15:53:16 2022-10-25  15:59:06          1      2   \n",
       "2       3    2022-10-25    08:19:26 2022-10-25  09:07:37          1      1   \n",
       "3       4    2022-10-25    08:56:21 2022-10-25  08:56:37          1      1   \n",
       "4       5    2022-10-25    08:56:44 2022-10-25  09:00:53          1      1   \n",
       "\n",
       "                          Punto_observacion  Zona  Uso  ...  Casco_Conductor  \\\n",
       "0              AV. CORRIENTES Y AV. DORREGO     3    1  ...                1   \n",
       "1  AV. MONTES DE OCA Y ARISTOBULO DEL VALLE     4    1  ...                1   \n",
       "2             AV. NAZCA Y AV. JUAN B. JUSTO     3    1  ...                1   \n",
       "3              AV. EMILIO CASTRO Y CORVALAN     1    1  ...                1   \n",
       "4                AV. DEL LIBERTADOR Y ARIAS     1    1  ...                1   \n",
       "\n",
       "   Tipo_Distraccion  Pasajero  Sexo_Pasajero  Casco_Pasajero  Tiene_Patente  \\\n",
       "0                 1       NaN            NaN             NaN              1   \n",
       "1                 4       NaN            NaN             NaN              1   \n",
       "2                 4       NaN            NaN             NaN              1   \n",
       "3                 4       NaN            NaN             NaN              1   \n",
       "4                 4       NaN            NaN             NaN              1   \n",
       "\n",
       "   Patente_Mercosur  Antiguedad  Cantidad_Ocupantes  Uso_Casco  \n",
       "0                 2           2                   1          1  \n",
       "1                 1           1                   1          1  \n",
       "2                 1           1                   1          1  \n",
       "3                 1           1                   1          1  \n",
       "4                 2           2                   1          1  \n",
       "\n",
       "[5 rows x 21 columns]"
      ]
     },
     "execution_count": 126,
     "metadata": {},
     "output_type": "execute_result"
    }
   ],
   "source": [
    "raw_data.head()"
   ]
  },
  {
   "cell_type": "code",
   "execution_count": 152,
   "id": "a7fab6c4",
   "metadata": {},
   "outputs": [
    {
     "data": {
      "text/html": [
       "<div>\n",
       "<style scoped>\n",
       "    .dataframe tbody tr th:only-of-type {\n",
       "        vertical-align: middle;\n",
       "    }\n",
       "\n",
       "    .dataframe tbody tr th {\n",
       "        vertical-align: top;\n",
       "    }\n",
       "\n",
       "    .dataframe thead th {\n",
       "        text-align: right;\n",
       "    }\n",
       "</style>\n",
       "<table border=\"1\" class=\"dataframe\">\n",
       "  <thead>\n",
       "    <tr style=\"text-align: right;\">\n",
       "      <th></th>\n",
       "      <th>Dia_Habil</th>\n",
       "      <th>Turno</th>\n",
       "      <th>Zona</th>\n",
       "      <th>Uso</th>\n",
       "      <th>Sexo</th>\n",
       "      <th>Casco_Conductor</th>\n",
       "      <th>Tipo_Distraccion</th>\n",
       "      <th>Tiene_Patente</th>\n",
       "      <th>Cantidad_Ocupantes</th>\n",
       "      <th>Uso_Casco</th>\n",
       "    </tr>\n",
       "  </thead>\n",
       "  <tbody>\n",
       "    <tr>\n",
       "      <th>count</th>\n",
       "      <td>2274.000000</td>\n",
       "      <td>2274.000000</td>\n",
       "      <td>2274.000000</td>\n",
       "      <td>2274.000000</td>\n",
       "      <td>2274.000000</td>\n",
       "      <td>2274.000000</td>\n",
       "      <td>2274.000000</td>\n",
       "      <td>2274.000000</td>\n",
       "      <td>2274.000000</td>\n",
       "      <td>2274.000000</td>\n",
       "    </tr>\n",
       "    <tr>\n",
       "      <th>mean</th>\n",
       "      <td>1.342568</td>\n",
       "      <td>1.540018</td>\n",
       "      <td>2.433157</td>\n",
       "      <td>1.271768</td>\n",
       "      <td>1.090589</td>\n",
       "      <td>1.110378</td>\n",
       "      <td>3.485488</td>\n",
       "      <td>1.092348</td>\n",
       "      <td>1.117854</td>\n",
       "      <td>1.117854</td>\n",
       "    </tr>\n",
       "    <tr>\n",
       "      <th>std</th>\n",
       "      <td>0.474673</td>\n",
       "      <td>0.498506</td>\n",
       "      <td>1.029341</td>\n",
       "      <td>0.444969</td>\n",
       "      <td>0.287087</td>\n",
       "      <td>0.313429</td>\n",
       "      <td>1.117399</td>\n",
       "      <td>0.289581</td>\n",
       "      <td>0.322506</td>\n",
       "      <td>0.322506</td>\n",
       "    </tr>\n",
       "    <tr>\n",
       "      <th>min</th>\n",
       "      <td>1.000000</td>\n",
       "      <td>1.000000</td>\n",
       "      <td>1.000000</td>\n",
       "      <td>1.000000</td>\n",
       "      <td>1.000000</td>\n",
       "      <td>1.000000</td>\n",
       "      <td>1.000000</td>\n",
       "      <td>1.000000</td>\n",
       "      <td>1.000000</td>\n",
       "      <td>1.000000</td>\n",
       "    </tr>\n",
       "    <tr>\n",
       "      <th>25%</th>\n",
       "      <td>1.000000</td>\n",
       "      <td>1.000000</td>\n",
       "      <td>1.000000</td>\n",
       "      <td>1.000000</td>\n",
       "      <td>1.000000</td>\n",
       "      <td>1.000000</td>\n",
       "      <td>4.000000</td>\n",
       "      <td>1.000000</td>\n",
       "      <td>1.000000</td>\n",
       "      <td>1.000000</td>\n",
       "    </tr>\n",
       "    <tr>\n",
       "      <th>50%</th>\n",
       "      <td>1.000000</td>\n",
       "      <td>2.000000</td>\n",
       "      <td>3.000000</td>\n",
       "      <td>1.000000</td>\n",
       "      <td>1.000000</td>\n",
       "      <td>1.000000</td>\n",
       "      <td>4.000000</td>\n",
       "      <td>1.000000</td>\n",
       "      <td>1.000000</td>\n",
       "      <td>1.000000</td>\n",
       "    </tr>\n",
       "    <tr>\n",
       "      <th>75%</th>\n",
       "      <td>2.000000</td>\n",
       "      <td>2.000000</td>\n",
       "      <td>3.000000</td>\n",
       "      <td>2.000000</td>\n",
       "      <td>1.000000</td>\n",
       "      <td>1.000000</td>\n",
       "      <td>4.000000</td>\n",
       "      <td>1.000000</td>\n",
       "      <td>1.000000</td>\n",
       "      <td>1.000000</td>\n",
       "    </tr>\n",
       "    <tr>\n",
       "      <th>max</th>\n",
       "      <td>2.000000</td>\n",
       "      <td>2.000000</td>\n",
       "      <td>4.000000</td>\n",
       "      <td>2.000000</td>\n",
       "      <td>2.000000</td>\n",
       "      <td>2.000000</td>\n",
       "      <td>4.000000</td>\n",
       "      <td>2.000000</td>\n",
       "      <td>2.000000</td>\n",
       "      <td>2.000000</td>\n",
       "    </tr>\n",
       "  </tbody>\n",
       "</table>\n",
       "</div>"
      ],
      "text/plain": [
       "         Dia_Habil        Turno         Zona          Uso         Sexo  \\\n",
       "count  2274.000000  2274.000000  2274.000000  2274.000000  2274.000000   \n",
       "mean      1.342568     1.540018     2.433157     1.271768     1.090589   \n",
       "std       0.474673     0.498506     1.029341     0.444969     0.287087   \n",
       "min       1.000000     1.000000     1.000000     1.000000     1.000000   \n",
       "25%       1.000000     1.000000     1.000000     1.000000     1.000000   \n",
       "50%       1.000000     2.000000     3.000000     1.000000     1.000000   \n",
       "75%       2.000000     2.000000     3.000000     2.000000     1.000000   \n",
       "max       2.000000     2.000000     4.000000     2.000000     2.000000   \n",
       "\n",
       "       Casco_Conductor  Tipo_Distraccion  Tiene_Patente  Cantidad_Ocupantes  \\\n",
       "count      2274.000000       2274.000000    2274.000000         2274.000000   \n",
       "mean          1.110378          3.485488       1.092348            1.117854   \n",
       "std           0.313429          1.117399       0.289581            0.322506   \n",
       "min           1.000000          1.000000       1.000000            1.000000   \n",
       "25%           1.000000          4.000000       1.000000            1.000000   \n",
       "50%           1.000000          4.000000       1.000000            1.000000   \n",
       "75%           1.000000          4.000000       1.000000            1.000000   \n",
       "max           2.000000          4.000000       2.000000            2.000000   \n",
       "\n",
       "         Uso_Casco  \n",
       "count  2274.000000  \n",
       "mean      1.117854  \n",
       "std       0.322506  \n",
       "min       1.000000  \n",
       "25%       1.000000  \n",
       "50%       1.000000  \n",
       "75%       1.000000  \n",
       "max       2.000000  "
      ]
     },
     "execution_count": 152,
     "metadata": {},
     "output_type": "execute_result"
    }
   ],
   "source": [
    "df.describe()"
   ]
  },
  {
   "cell_type": "code",
   "execution_count": 127,
   "id": "81cc61bf",
   "metadata": {},
   "outputs": [
    {
     "data": {
      "text/plain": [
       "(2477, 21)"
      ]
     },
     "execution_count": 127,
     "metadata": {},
     "output_type": "execute_result"
    }
   ],
   "source": [
    "raw_data.shape"
   ]
  },
  {
   "cell_type": "markdown",
   "id": "b66dd07d",
   "metadata": {},
   "source": [
    "El dataset contiene 2477 observaciones y 21 variables."
   ]
  },
  {
   "cell_type": "markdown",
   "id": "c976fba3",
   "metadata": {},
   "source": [
    "<h1 style=\"font-family: 'Lucida Sans', 'Lucida Sans Regular', 'Lucida Grande', 'Lucida Sans Unicode', Geneva, Verdana, sans-serif; text-align: justify; color: #3A405A;\">📊 Limpieza y preprocesamiento de datos</h1>\n",
    "\n",
    "<br>\n",
    "\n",
    "<div style=\"background-color: #E8EAF6; padding: 20px; border-radius: 10px; box-shadow: 2px 2px 10px rgba(0, 0, 0, 0.1);\">\n",
    "    <p style=\"font-size: 18px; font-family: 'Verdana'; color: #3A405A; line-height: 1.5em;\">Se realizan los siguientes pasos: <br>\n",
    "    - Eliminación de columnas que no aportan información relevante. <br>\n",
    "    - Busqueda de n/a <br> \n",
    "    </p>\n",
    "</div>"
   ]
  },
  {
   "cell_type": "markdown",
   "id": "04b06bc8",
   "metadata": {},
   "source": [
    "En primer lugar se eliminan las variables que no serán usadas para el análisis ni el modelado."
   ]
  },
  {
   "cell_type": "code",
   "execution_count": 128,
   "id": "96e05568",
   "metadata": {},
   "outputs": [],
   "source": [
    "todrop = ['Norden', \n",
    "          'Fecha_Inicial',\n",
    "          'Hora_Inicio', \n",
    "          'Fecha_Fin',\n",
    "          'Hora_Fin',\n",
    "          'Pasajero',\n",
    "          'Sexo_Pasajero',\n",
    "          'Casco_Pasajero',\n",
    "          'Patente_Mercosur',\n",
    "          'Punto_observacion',\n",
    "          'Antiguedad'\n",
    "    ]\n",
    "    \n",
    "\n",
    "\n",
    "df = raw_data.drop(columns = todrop)"
   ]
  },
  {
   "cell_type": "markdown",
   "id": "90b9a3fe",
   "metadata": {},
   "source": [
    "Se buscan posibles valores nulos."
   ]
  },
  {
   "cell_type": "code",
   "execution_count": 129,
   "id": "69108a78",
   "metadata": {
    "scrolled": true
   },
   "outputs": [
    {
     "data": {
      "text/plain": [
       "Dia_Habil             0\n",
       "Turno                 0\n",
       "Zona                  0\n",
       "Uso                   0\n",
       "Sexo                  0\n",
       "Casco_Conductor       0\n",
       "Tipo_Distraccion      0\n",
       "Tiene_Patente         0\n",
       "Cantidad_Ocupantes    0\n",
       "Uso_Casco             0\n",
       "dtype: int64"
      ]
     },
     "execution_count": 129,
     "metadata": {},
     "output_type": "execute_result"
    }
   ],
   "source": [
    "df.isnull().sum()"
   ]
  },
  {
   "cell_type": "markdown",
   "id": "f9220004",
   "metadata": {},
   "source": [
    "No se encuentran valores nulos en el dataset."
   ]
  },
  {
   "cell_type": "code",
   "execution_count": 130,
   "id": "f1c01854",
   "metadata": {},
   "outputs": [
    {
     "data": {
      "text/html": [
       "<div>\n",
       "<style scoped>\n",
       "    .dataframe tbody tr th:only-of-type {\n",
       "        vertical-align: middle;\n",
       "    }\n",
       "\n",
       "    .dataframe tbody tr th {\n",
       "        vertical-align: top;\n",
       "    }\n",
       "\n",
       "    .dataframe thead th {\n",
       "        text-align: right;\n",
       "    }\n",
       "</style>\n",
       "<table border=\"1\" class=\"dataframe\">\n",
       "  <thead>\n",
       "    <tr style=\"text-align: right;\">\n",
       "      <th></th>\n",
       "      <th>Dia_Habil</th>\n",
       "      <th>Turno</th>\n",
       "      <th>Zona</th>\n",
       "      <th>Uso</th>\n",
       "      <th>Sexo</th>\n",
       "      <th>Casco_Conductor</th>\n",
       "      <th>Tipo_Distraccion</th>\n",
       "      <th>Tiene_Patente</th>\n",
       "      <th>Cantidad_Ocupantes</th>\n",
       "      <th>Uso_Casco</th>\n",
       "    </tr>\n",
       "  </thead>\n",
       "  <tbody>\n",
       "    <tr>\n",
       "      <th>0</th>\n",
       "      <td>1</td>\n",
       "      <td>2</td>\n",
       "      <td>3</td>\n",
       "      <td>1</td>\n",
       "      <td>1</td>\n",
       "      <td>1</td>\n",
       "      <td>1</td>\n",
       "      <td>1</td>\n",
       "      <td>1</td>\n",
       "      <td>1</td>\n",
       "    </tr>\n",
       "    <tr>\n",
       "      <th>1</th>\n",
       "      <td>1</td>\n",
       "      <td>2</td>\n",
       "      <td>4</td>\n",
       "      <td>1</td>\n",
       "      <td>1</td>\n",
       "      <td>1</td>\n",
       "      <td>4</td>\n",
       "      <td>1</td>\n",
       "      <td>1</td>\n",
       "      <td>1</td>\n",
       "    </tr>\n",
       "    <tr>\n",
       "      <th>2</th>\n",
       "      <td>1</td>\n",
       "      <td>1</td>\n",
       "      <td>3</td>\n",
       "      <td>1</td>\n",
       "      <td>1</td>\n",
       "      <td>1</td>\n",
       "      <td>4</td>\n",
       "      <td>1</td>\n",
       "      <td>1</td>\n",
       "      <td>1</td>\n",
       "    </tr>\n",
       "    <tr>\n",
       "      <th>3</th>\n",
       "      <td>1</td>\n",
       "      <td>1</td>\n",
       "      <td>1</td>\n",
       "      <td>1</td>\n",
       "      <td>1</td>\n",
       "      <td>1</td>\n",
       "      <td>4</td>\n",
       "      <td>1</td>\n",
       "      <td>1</td>\n",
       "      <td>1</td>\n",
       "    </tr>\n",
       "    <tr>\n",
       "      <th>4</th>\n",
       "      <td>1</td>\n",
       "      <td>1</td>\n",
       "      <td>1</td>\n",
       "      <td>1</td>\n",
       "      <td>1</td>\n",
       "      <td>1</td>\n",
       "      <td>4</td>\n",
       "      <td>1</td>\n",
       "      <td>1</td>\n",
       "      <td>1</td>\n",
       "    </tr>\n",
       "  </tbody>\n",
       "</table>\n",
       "</div>"
      ],
      "text/plain": [
       "   Dia_Habil  Turno  Zona  Uso  Sexo  Casco_Conductor  Tipo_Distraccion  \\\n",
       "0          1      2     3    1     1                1                 1   \n",
       "1          1      2     4    1     1                1                 4   \n",
       "2          1      1     3    1     1                1                 4   \n",
       "3          1      1     1    1     1                1                 4   \n",
       "4          1      1     1    1     1                1                 4   \n",
       "\n",
       "   Tiene_Patente  Cantidad_Ocupantes  Uso_Casco  \n",
       "0              1                   1          1  \n",
       "1              1                   1          1  \n",
       "2              1                   1          1  \n",
       "3              1                   1          1  \n",
       "4              1                   1          1  "
      ]
     },
     "execution_count": 130,
     "metadata": {},
     "output_type": "execute_result"
    }
   ],
   "source": [
    "df.head()"
   ]
  },
  {
   "cell_type": "markdown",
   "id": "9f0591e3",
   "metadata": {},
   "source": [
    "<h1 style=\"font-family: 'Lucida Sans', 'Lucida Sans Regular', 'Lucida Grande', 'Lucida Sans Unicode', Geneva, Verdana, sans-serif; text-align: justify; color: #3A405A;\">📊 Análisis exploratorio de datos</h1>\n",
    "\n",
    "<br>\n",
    "\n",
    "<div style=\"background-color: #E8EAF6; padding: 20px; border-radius: 10px; box-shadow: 2px 2px 10px rgba(0, 0, 0, 0.1);\">\n",
    "    <p style=\"font-size: 18px; font-family: 'Verdana'; color: #3A405A; line-height: 1.5em;\">En este apartado, se busca estudiar la relación entre variables haciendo uso de gráficos. A su vez, se realizan modificaciones pertinentes en el dataset cuando se las considera necesarias.<br> Los nombres de cada categoria se obtuvieron del diccionario de observaciones, citado en la sección \"Descripción del dataset\".\n",
    "    \n",
    "</p>\n",
    "</div>"
   ]
  },
  {
   "cell_type": "code",
   "execution_count": 131,
   "id": "12573ee5",
   "metadata": {
    "scrolled": true
   },
   "outputs": [
    {
     "data": {
      "text/html": [
       "<div>\n",
       "<style scoped>\n",
       "    .dataframe tbody tr th:only-of-type {\n",
       "        vertical-align: middle;\n",
       "    }\n",
       "\n",
       "    .dataframe tbody tr th {\n",
       "        vertical-align: top;\n",
       "    }\n",
       "\n",
       "    .dataframe thead th {\n",
       "        text-align: right;\n",
       "    }\n",
       "</style>\n",
       "<table border=\"1\" class=\"dataframe\">\n",
       "  <thead>\n",
       "    <tr style=\"text-align: right;\">\n",
       "      <th></th>\n",
       "      <th>Dia_Habil</th>\n",
       "      <th>Turno</th>\n",
       "      <th>Zona</th>\n",
       "      <th>Uso</th>\n",
       "      <th>Sexo</th>\n",
       "      <th>Casco_Conductor</th>\n",
       "      <th>Tipo_Distraccion</th>\n",
       "      <th>Tiene_Patente</th>\n",
       "      <th>Cantidad_Ocupantes</th>\n",
       "      <th>Uso_Casco</th>\n",
       "    </tr>\n",
       "  </thead>\n",
       "  <tbody>\n",
       "    <tr>\n",
       "      <th>0</th>\n",
       "      <td>1</td>\n",
       "      <td>2</td>\n",
       "      <td>3</td>\n",
       "      <td>1</td>\n",
       "      <td>1</td>\n",
       "      <td>1</td>\n",
       "      <td>1</td>\n",
       "      <td>1</td>\n",
       "      <td>1</td>\n",
       "      <td>1</td>\n",
       "    </tr>\n",
       "    <tr>\n",
       "      <th>1</th>\n",
       "      <td>1</td>\n",
       "      <td>2</td>\n",
       "      <td>4</td>\n",
       "      <td>1</td>\n",
       "      <td>1</td>\n",
       "      <td>1</td>\n",
       "      <td>4</td>\n",
       "      <td>1</td>\n",
       "      <td>1</td>\n",
       "      <td>1</td>\n",
       "    </tr>\n",
       "    <tr>\n",
       "      <th>2</th>\n",
       "      <td>1</td>\n",
       "      <td>1</td>\n",
       "      <td>3</td>\n",
       "      <td>1</td>\n",
       "      <td>1</td>\n",
       "      <td>1</td>\n",
       "      <td>4</td>\n",
       "      <td>1</td>\n",
       "      <td>1</td>\n",
       "      <td>1</td>\n",
       "    </tr>\n",
       "    <tr>\n",
       "      <th>3</th>\n",
       "      <td>1</td>\n",
       "      <td>1</td>\n",
       "      <td>1</td>\n",
       "      <td>1</td>\n",
       "      <td>1</td>\n",
       "      <td>1</td>\n",
       "      <td>4</td>\n",
       "      <td>1</td>\n",
       "      <td>1</td>\n",
       "      <td>1</td>\n",
       "    </tr>\n",
       "    <tr>\n",
       "      <th>4</th>\n",
       "      <td>1</td>\n",
       "      <td>1</td>\n",
       "      <td>1</td>\n",
       "      <td>1</td>\n",
       "      <td>1</td>\n",
       "      <td>1</td>\n",
       "      <td>4</td>\n",
       "      <td>1</td>\n",
       "      <td>1</td>\n",
       "      <td>1</td>\n",
       "    </tr>\n",
       "  </tbody>\n",
       "</table>\n",
       "</div>"
      ],
      "text/plain": [
       "   Dia_Habil  Turno  Zona  Uso  Sexo  Casco_Conductor  Tipo_Distraccion  \\\n",
       "0          1      2     3    1     1                1                 1   \n",
       "1          1      2     4    1     1                1                 4   \n",
       "2          1      1     3    1     1                1                 4   \n",
       "3          1      1     1    1     1                1                 4   \n",
       "4          1      1     1    1     1                1                 4   \n",
       "\n",
       "   Tiene_Patente  Cantidad_Ocupantes  Uso_Casco  \n",
       "0              1                   1          1  \n",
       "1              1                   1          1  \n",
       "2              1                   1          1  \n",
       "3              1                   1          1  \n",
       "4              1                   1          1  "
      ]
     },
     "execution_count": 131,
     "metadata": {},
     "output_type": "execute_result"
    }
   ],
   "source": [
    "df.head()"
   ]
  },
  {
   "cell_type": "markdown",
   "id": "b19cb88d",
   "metadata": {},
   "source": [
    "### Tipo de día"
   ]
  },
  {
   "cell_type": "code",
   "execution_count": 132,
   "id": "1d04d943",
   "metadata": {
    "scrolled": false
   },
   "outputs": [
    {
     "data": {
      "text/plain": [
       "Text(0.5, 1.0, 'Observaciones por tipo de día')"
      ]
     },
     "execution_count": 132,
     "metadata": {},
     "output_type": "execute_result"
    },
    {
     "data": {
      "image/png": "[encoded data removed]",
      "text/plain": [
       "<Figure size 640x480 with 1 Axes>"
      ]
     },
     "metadata": {},
     "output_type": "display_data"
    }
   ],
   "source": [
    "plt.bar( ['Día laboral', 'Día no laboral'] , df['Dia_Habil'].value_counts().values) \n",
    "plt.ylabel('Cantidad de observaciones')\n",
    "plt.title('Observaciones por tipo de día')"
   ]
  },
  {
   "cell_type": "markdown",
   "id": "3095d283",
   "metadata": {},
   "source": [
    "La mayor cantidad de observaciones se da en días laborales."
   ]
  },
  {
   "cell_type": "markdown",
   "id": "4c3183da",
   "metadata": {},
   "source": [
    "### Turno"
   ]
  },
  {
   "cell_type": "code",
   "execution_count": 133,
   "id": "c459b454",
   "metadata": {
    "scrolled": false
   },
   "outputs": [
    {
     "data": {
      "text/plain": [
       "Text(0.5, 1.0, 'Observaciones por turno')"
      ]
     },
     "execution_count": 133,
     "metadata": {},
     "output_type": "execute_result"
    },
    {
     "data": {
      "image/png": "[encoded data removed]",
      "text/plain": [
       "<Figure size 640x480 with 1 Axes>"
      ]
     },
     "metadata": {},
     "output_type": "display_data"
    }
   ],
   "source": [
    "categorias = ['Mañana', 'Tarde']\n",
    "valores = df['Turno'].value_counts().sort_index().values\n",
    "\n",
    "plt.bar(categorias , valores)\n",
    "plt.ylabel('Cantidad de observaciones')\n",
    "plt.xticks(categorias)\n",
    "plt.title('Observaciones por turno')"
   ]
  },
  {
   "cell_type": "markdown",
   "id": "8bd87dd8",
   "metadata": {},
   "source": [
    "Hay una mayor cantidad de observaciones en el turno tarde."
   ]
  },
  {
   "cell_type": "markdown",
   "id": "d852dab4",
   "metadata": {},
   "source": [
    "### Zona"
   ]
  },
  {
   "cell_type": "code",
   "execution_count": 134,
   "id": "a0206bc5",
   "metadata": {
    "scrolled": false
   },
   "outputs": [
    {
     "data": {
      "text/plain": [
       "Text(0.5, 1.0, 'Observaciones por zona')"
      ]
     },
     "execution_count": 134,
     "metadata": {},
     "output_type": "execute_result"
    },
    {
     "data": {
      "image/png": "[encoded data removed]",
      "text/plain": [
       "<Figure size 640x480 with 1 Axes>"
      ]
     },
     "metadata": {},
     "output_type": "display_data"
    }
   ],
   "source": [
    "categorias = ['Centro', 'Norte', 'Oeste', 'Sur']\n",
    "valores = df['Zona'].value_counts().sort_index().values\n",
    "\n",
    "plt.bar(categorias , valores)\n",
    "plt.ylabel('Cantidad de observaciones')\n",
    "plt.xticks(categorias)\n",
    "plt.title('Observaciones por zona')"
   ]
  },
  {
   "cell_type": "markdown",
   "id": "92d6e078",
   "metadata": {},
   "source": [
    "Se advierte una mayor cantidad de observaciones en la zona 3."
   ]
  },
  {
   "cell_type": "code",
   "execution_count": 135,
   "id": "b3f43668",
   "metadata": {
    "scrolled": false
   },
   "outputs": [
    {
     "data": {
      "text/html": [
       "<div>\n",
       "<style scoped>\n",
       "    .dataframe tbody tr th:only-of-type {\n",
       "        vertical-align: middle;\n",
       "    }\n",
       "\n",
       "    .dataframe tbody tr th {\n",
       "        vertical-align: top;\n",
       "    }\n",
       "\n",
       "    .dataframe thead th {\n",
       "        text-align: right;\n",
       "    }\n",
       "</style>\n",
       "<table border=\"1\" class=\"dataframe\">\n",
       "  <thead>\n",
       "    <tr style=\"text-align: right;\">\n",
       "      <th></th>\n",
       "      <th></th>\n",
       "    </tr>\n",
       "    <tr>\n",
       "      <th>Zona</th>\n",
       "      <th>Punto_observacion</th>\n",
       "    </tr>\n",
       "  </thead>\n",
       "  <tbody>\n",
       "    <tr>\n",
       "      <th rowspan=\"18\" valign=\"top\">1</th>\n",
       "      <th>AV. ALEM Y LAVALLE</th>\n",
       "    </tr>\n",
       "    <tr>\n",
       "      <th>AV. CALLAO Y AV. CORRIENTES</th>\n",
       "    </tr>\n",
       "    <tr>\n",
       "      <th>AV. CALLAO Y PARAGUAY</th>\n",
       "    </tr>\n",
       "    <tr>\n",
       "      <th>AV. CORRIENTES Y 25 DE MAYO</th>\n",
       "    </tr>\n",
       "    <tr>\n",
       "      <th>AV. CORRIENTES Y AV. CALLAO</th>\n",
       "    </tr>\n",
       "    <tr>\n",
       "      <th>AV. DEL LIBERTADOR Y AGOTE</th>\n",
       "    </tr>\n",
       "    <tr>\n",
       "      <th>AV. DEL LIBERTADOR Y ARIAS</th>\n",
       "    </tr>\n",
       "    <tr>\n",
       "      <th>AV. DEL LIBERTADOR Y AV. PUEYRREDON</th>\n",
       "    </tr>\n",
       "    <tr>\n",
       "      <th>AV. DEL LIBERTADOR Y LUIS AGOTE</th>\n",
       "    </tr>\n",
       "    <tr>\n",
       "      <th>AV. EMILIO CASTRO Y CORVALAN</th>\n",
       "    </tr>\n",
       "    <tr>\n",
       "      <th>AV. FIGUEROA ALCORTA Y BIBILONI</th>\n",
       "    </tr>\n",
       "    <tr>\n",
       "      <th>AV. INDEPENDENCIA Y BERNARDO DE IRIGOYEN</th>\n",
       "    </tr>\n",
       "    <tr>\n",
       "      <th>AV. PUEYRREDON Y AZCUENAGA</th>\n",
       "    </tr>\n",
       "    <tr>\n",
       "      <th>AV. PUEYRREDON Y LEVENE</th>\n",
       "    </tr>\n",
       "    <tr>\n",
       "      <th>BARTOLOME MITRE Y CARLOS PELLEGRINI</th>\n",
       "    </tr>\n",
       "    <tr>\n",
       "      <th>BARTOLOME MITRE Y CERRITO</th>\n",
       "    </tr>\n",
       "    <tr>\n",
       "      <th>HIPOLITO YRIGOYEN Y SAN JOSE</th>\n",
       "    </tr>\n",
       "    <tr>\n",
       "      <th>PARAGUAY Y RODRIGUEZ PEÑA</th>\n",
       "    </tr>\n",
       "    <tr>\n",
       "      <th rowspan=\"12\" valign=\"top\">2</th>\n",
       "      <th>AV. ALVAREZ THOMAS Y TRONADOR</th>\n",
       "    </tr>\n",
       "    <tr>\n",
       "      <th>AV. BULLRICH Y AV. SANTA FE</th>\n",
       "    </tr>\n",
       "    <tr>\n",
       "      <th>AV. CABILDO Y ARIAS</th>\n",
       "    </tr>\n",
       "    <tr>\n",
       "      <th>AV. DE LOS CONSTITUYENTES Y ALVAREZ PRADO</th>\n",
       "    </tr>\n",
       "    <tr>\n",
       "      <th>AV. DE LOS CONSTITUYENTES Y PIRAN</th>\n",
       "    </tr>\n",
       "    <tr>\n",
       "      <th>AV. JUAN B. JUSTO Y CHARCAS</th>\n",
       "    </tr>\n",
       "    <tr>\n",
       "      <th>AV. LAS HERAS Y SALGUERO</th>\n",
       "    </tr>\n",
       "    <tr>\n",
       "      <th>AV. MOSCONI Y CARACAS</th>\n",
       "    </tr>\n",
       "    <tr>\n",
       "      <th>AV. RICARDO BALBIN Y AV. MELIAN</th>\n",
       "    </tr>\n",
       "    <tr>\n",
       "      <th>AV. TRIUNVIRATO Y AV. CRISOLOGO LARRALDE</th>\n",
       "    </tr>\n",
       "    <tr>\n",
       "      <th>MENDOZA Y AMENABAR</th>\n",
       "    </tr>\n",
       "    <tr>\n",
       "      <th>MONROE Y CERETTI</th>\n",
       "    </tr>\n",
       "    <tr>\n",
       "      <th rowspan=\"13\" valign=\"top\">3</th>\n",
       "      <th>AV. CORRIENTES Y ARAOZ</th>\n",
       "    </tr>\n",
       "    <tr>\n",
       "      <th>AV. CORRIENTES Y AV. DORREGO</th>\n",
       "    </tr>\n",
       "    <tr>\n",
       "      <th>AV. CORRIENTES Y AV. SCALABRINI ORTIZ</th>\n",
       "    </tr>\n",
       "    <tr>\n",
       "      <th>AV. DIRECTORIO Y DEL BARCO CENTENERA</th>\n",
       "    </tr>\n",
       "    <tr>\n",
       "      <th>AV. FRANCISCO BEIRO Y CERVANTES</th>\n",
       "    </tr>\n",
       "    <tr>\n",
       "      <th>AV. JUAN B. JUSTO Y AV. CARRASCO</th>\n",
       "    </tr>\n",
       "    <tr>\n",
       "      <th>AV. LOPE DE VEGA Y AV. JUAN B. JUSTO</th>\n",
       "    </tr>\n",
       "    <tr>\n",
       "      <th>AV. NAZCA Y AV. JUAN B. JUSTO</th>\n",
       "    </tr>\n",
       "    <tr>\n",
       "      <th>AV. RIVADAVIA Y COLOMBRES</th>\n",
       "    </tr>\n",
       "    <tr>\n",
       "      <th>AV. RIVADAVIA Y DEL BARCO CENTENERA</th>\n",
       "    </tr>\n",
       "    <tr>\n",
       "      <th>AV. SAN MARTIN Y APOLINARIO FIGUEROA</th>\n",
       "    </tr>\n",
       "    <tr>\n",
       "      <th>AV. SAN MARTIN Y NAVARRO</th>\n",
       "    </tr>\n",
       "    <tr>\n",
       "      <th>ROSARIO Y DEL BARCO CENTENERA</th>\n",
       "    </tr>\n",
       "    <tr>\n",
       "      <th rowspan=\"14\" valign=\"top\">4</th>\n",
       "      <th>AV. BRUIX Y BRAGADO</th>\n",
       "    </tr>\n",
       "    <tr>\n",
       "      <th>AV. CHICLANA Y AV. CASEROS</th>\n",
       "    </tr>\n",
       "    <tr>\n",
       "      <th>AV. DIRECTORIO Y WHITE</th>\n",
       "    </tr>\n",
       "    <tr>\n",
       "      <th>AV. EMILIO CASTRO Y ALBARIÑO</th>\n",
       "    </tr>\n",
       "    <tr>\n",
       "      <th>AV. EVA PERON Y JOSE MARTI</th>\n",
       "    </tr>\n",
       "    <tr>\n",
       "      <th>AV. INDEPENDENCIA Y RINCON</th>\n",
       "    </tr>\n",
       "    <tr>\n",
       "      <th>AV. JUAN BAUTISTA ALBERDI Y AV. CORONEL CARDENAS</th>\n",
       "    </tr>\n",
       "    <tr>\n",
       "      <th>AV. LAFUENTE Y PRIMERA JUNTA</th>\n",
       "    </tr>\n",
       "    <tr>\n",
       "      <th>AV. MARTIN GARCIA E ISABEL LA CATOLICA</th>\n",
       "    </tr>\n",
       "    <tr>\n",
       "      <th>AV. MONTES DE OCA Y ARISTOBULO DEL VALLE</th>\n",
       "    </tr>\n",
       "    <tr>\n",
       "      <th>AV. MONTES DE OCA Y WENCESLAO VILLAFAÑE</th>\n",
       "    </tr>\n",
       "    <tr>\n",
       "      <th>AV. RIVADAVIA Y LEGUIZAMON</th>\n",
       "    </tr>\n",
       "    <tr>\n",
       "      <th>AV. RIVADAVIA Y MURGUIONDO</th>\n",
       "    </tr>\n",
       "    <tr>\n",
       "      <th>BRASIL Y PERU</th>\n",
       "    </tr>\n",
       "  </tbody>\n",
       "</table>\n",
       "</div>"
      ],
      "text/plain": [
       "Empty DataFrame\n",
       "Columns: []\n",
       "Index: [(1, AV. ALEM Y LAVALLE), (1, AV. CALLAO Y AV. CORRIENTES), (1, AV. CALLAO Y PARAGUAY), (1, AV. CORRIENTES Y 25 DE MAYO), (1, AV. CORRIENTES Y AV. CALLAO), (1, AV. DEL LIBERTADOR Y AGOTE), (1, AV. DEL LIBERTADOR Y ARIAS), (1, AV. DEL LIBERTADOR Y AV. PUEYRREDON), (1, AV. DEL LIBERTADOR Y LUIS AGOTE), (1, AV. EMILIO CASTRO Y CORVALAN), (1, AV. FIGUEROA ALCORTA Y BIBILONI), (1, AV. INDEPENDENCIA Y BERNARDO DE IRIGOYEN), (1, AV. PUEYRREDON Y AZCUENAGA), (1, AV. PUEYRREDON Y LEVENE), (1, BARTOLOME MITRE Y CARLOS PELLEGRINI), (1, BARTOLOME MITRE Y CERRITO), (1, HIPOLITO YRIGOYEN Y SAN JOSE), (1, PARAGUAY Y RODRIGUEZ PEÑA), (2, AV. ALVAREZ THOMAS Y TRONADOR), (2, AV. BULLRICH Y AV. SANTA FE), (2, AV. CABILDO Y ARIAS), (2, AV. DE LOS CONSTITUYENTES Y ALVAREZ PRADO), (2, AV. DE LOS CONSTITUYENTES Y PIRAN), (2, AV. JUAN B. JUSTO Y CHARCAS), (2, AV. LAS HERAS Y SALGUERO), (2, AV. MOSCONI Y CARACAS), (2, AV. RICARDO BALBIN Y AV. MELIAN), (2, AV. TRIUNVIRATO Y AV. CRISOLOGO LARRALDE), (2, MENDOZA Y AMENABAR), (2, MONROE Y CERETTI), (3, AV. CORRIENTES Y ARAOZ), (3, AV. CORRIENTES Y AV. DORREGO), (3, AV. CORRIENTES Y AV. SCALABRINI ORTIZ), (3, AV. DIRECTORIO Y DEL BARCO CENTENERA), (3, AV. FRANCISCO BEIRO Y CERVANTES), (3, AV. JUAN B. JUSTO Y AV. CARRASCO), (3, AV. LOPE DE VEGA Y AV. JUAN B. JUSTO), (3, AV. NAZCA Y AV. JUAN B. JUSTO), (3, AV. RIVADAVIA Y COLOMBRES), (3, AV. RIVADAVIA Y DEL BARCO CENTENERA), (3, AV. SAN MARTIN Y APOLINARIO FIGUEROA), (3, AV. SAN MARTIN Y NAVARRO), (3, ROSARIO Y DEL BARCO CENTENERA), (4, AV. BRUIX Y BRAGADO), (4, AV. CHICLANA Y AV. CASEROS), (4, AV. DIRECTORIO Y WHITE), (4, AV. EMILIO CASTRO Y ALBARIÑO), (4, AV. EVA PERON Y JOSE MARTI), (4, AV. INDEPENDENCIA Y RINCON), (4, AV. JUAN BAUTISTA ALBERDI Y AV. CORONEL CARDENAS), (4, AV. LAFUENTE Y PRIMERA JUNTA), (4, AV. MARTIN GARCIA E ISABEL LA CATOLICA), (4, AV. MONTES DE OCA Y ARISTOBULO DEL VALLE), (4, AV. MONTES DE OCA Y WENCESLAO VILLAFAÑE), (4, AV. RIVADAVIA Y LEGUIZAMON), (4, AV. RIVADAVIA Y MURGUIONDO), (4, BRASIL Y PERU)]"
      ]
     },
     "execution_count": 135,
     "metadata": {},
     "output_type": "execute_result"
    }
   ],
   "source": [
    "raw_data[['Punto_observacion', 'Zona']].groupby(['Zona', 'Punto_observacion']).sum()"
   ]
  },
  {
   "cell_type": "code",
   "execution_count": 136,
   "id": "ae83b2e7",
   "metadata": {
    "scrolled": true
   },
   "outputs": [
    {
     "data": {
      "text/plain": [
       "Punto_observacion\n",
       "AV. DIRECTORIO Y DEL BARCO CENTENERA     183\n",
       "AV. JUAN B. JUSTO Y AV. CARRASCO         179\n",
       "AV. SAN MARTIN Y NAVARRO                 110\n",
       "AV. CORRIENTES Y AV. DORREGO              96\n",
       "AV. RIVADAVIA Y COLOMBRES                 92\n",
       "AV. LOPE DE VEGA Y AV. JUAN B. JUSTO      91\n",
       "AV. NAZCA Y AV. JUAN B. JUSTO             57\n",
       "AV. SAN MARTIN Y APOLINARIO FIGUEROA      55\n",
       "AV. FRANCISCO BEIRO Y CERVANTES           52\n",
       "AV. CORRIENTES Y ARAOZ                    29\n",
       "AV. RIVADAVIA Y DEL BARCO CENTENERA       21\n",
       "ROSARIO Y DEL BARCO CENTENERA             16\n",
       "AV. CORRIENTES Y AV. SCALABRINI ORTIZ      5\n",
       "Name: count, dtype: int64"
      ]
     },
     "execution_count": 136,
     "metadata": {},
     "output_type": "execute_result"
    }
   ],
   "source": [
    "raw_data.loc[raw_data['Zona'] == 3, 'Punto_observacion'].value_counts()"
   ]
  },
  {
   "cell_type": "markdown",
   "id": "2b4c6249",
   "metadata": {},
   "source": [
    "Al evaluar dentro de la zona 3 las esquinas con mayor cantidad de observaciones, observaciones son las siguientes:\n",
    "\n",
    "- AV. DIRECTORIO Y DEL BARCO CENTENERA\n",
    "- AV. JUAN B. JUSTO Y AV. CARRASCO"
   ]
  },
  {
   "cell_type": "markdown",
   "id": "9d9031a8",
   "metadata": {},
   "source": [
    "### Uso de motovehículo"
   ]
  },
  {
   "cell_type": "code",
   "execution_count": 137,
   "id": "52090d08",
   "metadata": {},
   "outputs": [
    {
     "data": {
      "text/plain": [
       "Text(0.5, 1.0, 'Observaciones según tipo de uso de motovehiculo')"
      ]
     },
     "execution_count": 137,
     "metadata": {},
     "output_type": "execute_result"
    },
    {
     "data": {
      "image/png": "[encoded data removed]",
      "text/plain": [
       "<Figure size 640x480 with 1 Axes>"
      ]
     },
     "metadata": {},
     "output_type": "display_data"
    }
   ],
   "source": [
    "categorias = ['Particular', 'Comercial']\n",
    "valores = df['Uso'].value_counts().sort_index().values\n",
    "\n",
    "plt.bar(categorias , valores)\n",
    "plt.ylabel('Cantidad de observaciones')\n",
    "plt.xticks(categorias)\n",
    "plt.title('Observaciones según tipo de uso de motovehiculo')"
   ]
  },
  {
   "cell_type": "markdown",
   "id": "3e73ea20",
   "metadata": {},
   "source": [
    "La mayor proporción de motovehiculos registrados es de uso particular."
   ]
  },
  {
   "cell_type": "markdown",
   "id": "d29972fe",
   "metadata": {},
   "source": [
    "### Sexo"
   ]
  },
  {
   "cell_type": "code",
   "execution_count": 138,
   "id": "dff08672",
   "metadata": {
    "scrolled": false
   },
   "outputs": [
    {
     "data": {
      "text/plain": [
       "Text(0.5, 1.0, 'Observaciones según tipo de uso sexo')"
      ]
     },
     "execution_count": 138,
     "metadata": {},
     "output_type": "execute_result"
    },
    {
     "data": {
      "image/png": "[encoded data removed]",
      "text/plain": [
       "<Figure size 640x480 with 1 Axes>"
      ]
     },
     "metadata": {},
     "output_type": "display_data"
    }
   ],
   "source": [
    "categorias = ['Masculino', 'Femenino', 'SD']\n",
    "valores = df['Sexo'].value_counts().sort_index().values\n",
    "\n",
    "plt.bar(categorias , valores)\n",
    "plt.ylabel('Cantidad de observaciones')\n",
    "plt.xticks(categorias)\n",
    "plt.title('Observaciones según tipo de uso sexo')"
   ]
  },
  {
   "cell_type": "code",
   "execution_count": 139,
   "id": "1b856e0a",
   "metadata": {},
   "outputs": [],
   "source": [
    "to_drop = df[df['Sexo'] == 9].index\n",
    "df.drop(to_drop, inplace = True)"
   ]
  },
  {
   "cell_type": "markdown",
   "id": "fe2dcc56",
   "metadata": {},
   "source": [
    "La mayor cantidad de observaciones es de sexo masculino. Los registros sin datos se eliminan del dataset."
   ]
  },
  {
   "cell_type": "markdown",
   "id": "0908701b",
   "metadata": {},
   "source": [
    "### Uso de casco por todos los ocupantes"
   ]
  },
  {
   "cell_type": "code",
   "execution_count": 140,
   "id": "6779e279",
   "metadata": {},
   "outputs": [
    {
     "data": {
      "text/plain": [
       "Text(0.5, 1.0, 'Observaciones según uso de casco por todos los pasajeros')"
      ]
     },
     "execution_count": 140,
     "metadata": {},
     "output_type": "execute_result"
    },
    {
     "data": {
      "image/png": "[encoded data removed]",
      "text/plain": [
       "<Figure size 640x480 with 1 Axes>"
      ]
     },
     "metadata": {},
     "output_type": "display_data"
    }
   ],
   "source": [
    "categorias = ['Si', 'No']\n",
    "valores = df['Uso_Casco'].value_counts().sort_index().values\n",
    "\n",
    "plt.bar(categorias , valores)\n",
    "plt.ylabel('Cantidad de observaciones')\n",
    "plt.xticks(categorias)\n",
    "plt.title('Observaciones según uso de casco por todos los pasajeros')"
   ]
  },
  {
   "cell_type": "markdown",
   "id": "4dddd11d",
   "metadata": {},
   "source": [
    "En la mayoria de las observaciones los pasajeros usan casco en su totalidad."
   ]
  },
  {
   "cell_type": "markdown",
   "id": "0c60c567",
   "metadata": {},
   "source": [
    "### Tipo de distracción en cada observación"
   ]
  },
  {
   "cell_type": "code",
   "execution_count": 141,
   "id": "95f72b5c",
   "metadata": {
    "scrolled": false
   },
   "outputs": [
    {
     "data": {
      "text/plain": [
       "([<matplotlib.axis.XTick at 0x1cc70619050>,\n",
       "  <matplotlib.axis.XTick at 0x1cc7178ddd0>,\n",
       "  <matplotlib.axis.XTick at 0x1cc717b74d0>,\n",
       "  <matplotlib.axis.XTick at 0x1cc717d05d0>],\n",
       " [Text(0.0, 0, 'Celular'),\n",
       "  Text(1.0, 0, 'Fuma'),\n",
       "  Text(2.0, 0, 'Come'),\n",
       "  Text(3.0, 0, 'Ninguno')])"
      ]
     },
     "execution_count": 141,
     "metadata": {},
     "output_type": "execute_result"
    },
    {
     "data": {
      "image/png": "[encoded data removed]",
      "text/plain": [
       "<Figure size 640x480 with 1 Axes>"
      ]
     },
     "metadata": {},
     "output_type": "display_data"
    }
   ],
   "source": [
    "categorias = ['Celular', 'Fuma', 'Come', 'Ninguno']\n",
    "valores = df['Tipo_Distraccion'].value_counts().sort_index().values\n",
    "\n",
    "plt.bar(categorias , valores)\n",
    "plt.ylabel('Cantidad de observaciones')\n",
    "plt.xticks(categorias)"
   ]
  },
  {
   "cell_type": "markdown",
   "id": "502e13d0",
   "metadata": {},
   "source": [
    "En la mayor parte de las observaciones no seregistraron distracciones. La distracción más resgistrada fue el uso de celular."
   ]
  },
  {
   "cell_type": "markdown",
   "id": "c1e09aa6",
   "metadata": {},
   "source": [
    "### Presencia de patente"
   ]
  },
  {
   "cell_type": "code",
   "execution_count": 142,
   "id": "f908fcfd",
   "metadata": {
    "scrolled": false
   },
   "outputs": [
    {
     "data": {
      "text/plain": [
       "([<matplotlib.axis.XTick at 0x1cc717874d0>,\n",
       "  <matplotlib.axis.XTick at 0x1cc717d1d50>,\n",
       "  <matplotlib.axis.XTick at 0x1cc7181da10>],\n",
       " [Text(0.0, 0, 'Si'), Text(1.0, 0, 'No'), Text(2.0, 0, 'Sin dato')])"
      ]
     },
     "execution_count": 142,
     "metadata": {},
     "output_type": "execute_result"
    },
    {
     "data": {
      "image/png": "[encoded data removed]",
      "text/plain": [
       "<Figure size 640x480 with 1 Axes>"
      ]
     },
     "metadata": {},
     "output_type": "display_data"
    }
   ],
   "source": [
    "categorias = ['Si', 'No', 'Sin dato']\n",
    "valores = df['Tiene_Patente'].value_counts().sort_index().values\n",
    "\n",
    "plt.bar(categorias , valores)\n",
    "plt.ylabel('Cantidad de observaciones')\n",
    "\n",
    "plt.xticks(categorias)"
   ]
  },
  {
   "cell_type": "code",
   "execution_count": 143,
   "id": "0ef399a6",
   "metadata": {},
   "outputs": [],
   "source": [
    "to_drop = df[df['Tiene_Patente'] == 9].index\n",
    "df.drop(to_drop, inplace = True)"
   ]
  },
  {
   "cell_type": "markdown",
   "id": "cd2a68b3",
   "metadata": {},
   "source": [
    "La mayor parte de los motovehiculos poseen patente. Los registros sin datos se eliminan del dataset."
   ]
  },
  {
   "cell_type": "markdown",
   "id": "370e25f8",
   "metadata": {},
   "source": [
    "### Cantidad de ocupantes"
   ]
  },
  {
   "cell_type": "code",
   "execution_count": 144,
   "id": "47126490",
   "metadata": {},
   "outputs": [
    {
     "data": {
      "text/plain": [
       "Text(0.5, 1.0, 'Observaciones por cantidad de ocupantes')"
      ]
     },
     "execution_count": 144,
     "metadata": {},
     "output_type": "execute_result"
    },
    {
     "data": {
      "image/png": "[encoded data removed]",
      "text/plain": [
       "<Figure size 640x480 with 1 Axes>"
      ]
     },
     "metadata": {},
     "output_type": "display_data"
    }
   ],
   "source": [
    "valores = df['Cantidad_Ocupantes'].value_counts().sort_index().values\n",
    "categorias = df['Cantidad_Ocupantes'].value_counts().sort_index().index\n",
    "\n",
    "plt.bar(categorias , valores)\n",
    "plt.ylabel('Cantidad de observaciones')\n",
    "plt.xticks(categorias)\n",
    "plt.title('Observaciones por cantidad de ocupantes')"
   ]
  },
  {
   "cell_type": "markdown",
   "id": "9bd941aa",
   "metadata": {},
   "source": [
    "La cantidad de ocupantes del motovehiculo es en su mayoria de una sola persona."
   ]
  },
  {
   "cell_type": "markdown",
   "id": "e2378b09",
   "metadata": {},
   "source": [
    "### Uso de casco por conductor"
   ]
  },
  {
   "cell_type": "code",
   "execution_count": 145,
   "id": "031131c1",
   "metadata": {
    "scrolled": false
   },
   "outputs": [
    {
     "data": {
      "text/plain": [
       "([<matplotlib.axis.XTick at 0x1cc706a90d0>,\n",
       "  <matplotlib.axis.XTick at 0x1cc706b2f90>,\n",
       "  <matplotlib.axis.XTick at 0x1cc706dba90>],\n",
       " [Text(0.0, 0, 'Si'), Text(1.0, 0, 'No'), Text(2.0, 0, 'Sin dato')])"
      ]
     },
     "execution_count": 145,
     "metadata": {},
     "output_type": "execute_result"
    },
    {
     "data": {
      "image/png": "[encoded data removed]",
      "text/plain": [
       "<Figure size 640x480 with 1 Axes>"
      ]
     },
     "metadata": {},
     "output_type": "display_data"
    }
   ],
   "source": [
    "categorias = ['Si', 'No', 'Sin dato']\n",
    "valores = df['Casco_Conductor'].value_counts().sort_index().values\n",
    "\n",
    "plt.bar(categorias , valores)\n",
    "plt.ylabel('Cantidad de observaciones')\n",
    "\n",
    "plt.xticks(categorias)"
   ]
  },
  {
   "cell_type": "markdown",
   "id": "74521fd9",
   "metadata": {},
   "source": [
    "El conductor en su mayoria usa casco."
   ]
  },
  {
   "cell_type": "code",
   "execution_count": 146,
   "id": "910d957f",
   "metadata": {},
   "outputs": [],
   "source": [
    "to_drop = df[df['Casco_Conductor'] == 9].index\n",
    "df.drop(to_drop, inplace = True)"
   ]
  },
  {
   "cell_type": "markdown",
   "id": "875a8b10",
   "metadata": {},
   "source": [
    "<h1 style=\"font-family: 'Lucida Sans', 'Lucida Sans Regular', 'Lucida Grande', 'Lucida Sans Unicode', Geneva, Verdana, sans-serif; text-align: justify; color: #3A405A;\">📊 Modelado</h1>\n",
    "\n",
    "<br>\n",
    "\n",
    "<div style=\"background-color: #E8EAF6; padding: 20px; border-radius: 10px; box-shadow: 2px 2px 10px rgba(0, 0, 0, 0.1);\">\n",
    "    <p style=\"font-size: 18px; font-family: 'Verdana'; color: #3A405A; line-height: 1.5em;\">Para la generación de perfiles se utiliza un modelo de aprendizaje automatico no supervisado. El modelo seleccionado es KModes que se basa en la moda estadística para generar para agrupar datos categoricos.<br> Para seleccionar la cantidad correcta de clusters del agrupamiento, se uso la metodología de curva elbow e índice silhouette.\n",
    "    \n",
    "</div>"
   ]
  },
  {
   "cell_type": "markdown",
   "id": "8766c740",
   "metadata": {},
   "source": [
    "### Curva elbow\n",
    "\n",
    "La curva elbow se basa en el cálculo de las distancias cuadradas intracluster. Una distancia menor habla de un cluster más compacto y cohesivo. \n",
    "A medida que se aumentan los clusters de un modelo, la distancia disminuye porque cada cluster tengo menos puntos con una distancia hasta el centroide.\n",
    "EL valor idoneo es donde se generaun \"quiebre\" en la curva."
   ]
  },
  {
   "cell_type": "code",
   "execution_count": 147,
   "id": "5e716aa4",
   "metadata": {},
   "outputs": [
    {
     "data": {
      "image/png": "[encoded data removed]",
      "text/plain": [
       "<Figure size 640x480 with 1 Axes>"
      ]
     },
     "metadata": {},
     "output_type": "display_data"
    }
   ],
   "source": [
    "inertia = [] #Es la distancia intracluster\n",
    "\n",
    "# Prueba diferentes valores de k (número de clusters)\n",
    "for k in range(1, 15):\n",
    "    km = KModes(n_clusters=k, init='Cao', n_init=5, verbose=0)\n",
    "    km.fit(df)\n",
    "    # Calcula la inercia y la agrega a la lista\n",
    "    inertia.append(km.cost_)\n",
    "\n",
    "# Grafica la curva elbow\n",
    "plt.plot(range(1, 15), inertia, marker='o')\n",
    "plt.xlabel('Número de clusters')\n",
    "plt.ylabel('Inercia')\n",
    "plt.title('Curva Elbow para K-Modes')\n",
    "plt.show()\n"
   ]
  },
  {
   "cell_type": "markdown",
   "id": "dd2d17ce",
   "metadata": {},
   "source": [
    "Si bien no es del todo claro, un modelo de 2 clusters representaria mejor la distribución de datos."
   ]
  },
  {
   "cell_type": "markdown",
   "id": "7f993d0d",
   "metadata": {},
   "source": [
    "### Indice Silhouette\n",
    "\n",
    "Proporciona una medida de cuán bien están separados los clusters y qué tan similares son los puntos dentro de un mismo cluster en comparación con los puntos en los clusters vecinos. Un indice alto significa que los cluster son densos y estan bien separados."
   ]
  },
  {
   "cell_type": "code",
   "execution_count": 148,
   "id": "443c9e10",
   "metadata": {},
   "outputs": [
    {
     "data": {
      "image/png": "[encoded data removed]",
      "text/plain": [
       "<Figure size 640x480 with 1 Axes>"
      ]
     },
     "metadata": {},
     "output_type": "display_data"
    }
   ],
   "source": [
    "# Lista para almacenar los valores de índice Silhouette\n",
    "silhouette_scores = []\n",
    "\n",
    "# Prueba diferentes valores de k (número de clusters)\n",
    "for k in range(2, 11):\n",
    "    km = KModes(n_clusters=k, init='Cao', n_init=5, verbose=0)\n",
    "    clusters = km.fit_predict(df)\n",
    "    silhouette_avg = silhouette_score(df, clusters, metric='hamming')\n",
    "    silhouette_scores.append(silhouette_avg)\n",
    "\n",
    "# Grafica la curva de índice Silhouette\n",
    "plt.plot(range(2, 11), silhouette_scores, marker='o')\n",
    "plt.xlabel('Número de clusters')\n",
    "plt.ylabel('Índice Silhouette')\n",
    "plt.title('Índice Silhouette para K-Modes')\n",
    "plt.show()\n"
   ]
  },
  {
   "cell_type": "markdown",
   "id": "8663a8e9",
   "metadata": {},
   "source": [
    "El indice más grande se obtiene con dos clusters. También hay picos en 7 y 9 clusters con un indice un tanto menor. Cabe aclarar, que el indice obtenido no es muy bueno."
   ]
  },
  {
   "cell_type": "markdown",
   "id": "3ce1fdc7",
   "metadata": {},
   "source": [
    "### Modelado con Kmodes\n",
    "\n",
    "Se generan dos perfiles usando KModes. \n",
    "Como método de inicialización de cluster, utilizó Cao que daba los mejores resultados. En este método, los centroides iniciales se seleccionan de manera inteligente utilizando una técnica basada en la densidad de los datos."
   ]
  },
  {
   "cell_type": "code",
   "execution_count": 149,
   "id": "bfb4603b",
   "metadata": {},
   "outputs": [
    {
     "data": {
      "text/html": [
       "<div>\n",
       "<style scoped>\n",
       "    .dataframe tbody tr th:only-of-type {\n",
       "        vertical-align: middle;\n",
       "    }\n",
       "\n",
       "    .dataframe tbody tr th {\n",
       "        vertical-align: top;\n",
       "    }\n",
       "\n",
       "    .dataframe thead th {\n",
       "        text-align: right;\n",
       "    }\n",
       "</style>\n",
       "<table border=\"1\" class=\"dataframe\">\n",
       "  <thead>\n",
       "    <tr style=\"text-align: right;\">\n",
       "      <th></th>\n",
       "      <th>Dia_Habil</th>\n",
       "      <th>Turno</th>\n",
       "      <th>Zona</th>\n",
       "      <th>Uso</th>\n",
       "      <th>Sexo</th>\n",
       "      <th>Casco_Conductor</th>\n",
       "      <th>Tipo_Distraccion</th>\n",
       "      <th>Tiene_Patente</th>\n",
       "      <th>Cantidad_Ocupantes</th>\n",
       "      <th>Uso_Casco</th>\n",
       "    </tr>\n",
       "  </thead>\n",
       "  <tbody>\n",
       "    <tr>\n",
       "      <th>0</th>\n",
       "      <td>1</td>\n",
       "      <td>2</td>\n",
       "      <td>3</td>\n",
       "      <td>1</td>\n",
       "      <td>1</td>\n",
       "      <td>1</td>\n",
       "      <td>4</td>\n",
       "      <td>1</td>\n",
       "      <td>1</td>\n",
       "      <td>1</td>\n",
       "    </tr>\n",
       "    <tr>\n",
       "      <th>1</th>\n",
       "      <td>1</td>\n",
       "      <td>1</td>\n",
       "      <td>2</td>\n",
       "      <td>2</td>\n",
       "      <td>1</td>\n",
       "      <td>2</td>\n",
       "      <td>1</td>\n",
       "      <td>1</td>\n",
       "      <td>1</td>\n",
       "      <td>2</td>\n",
       "    </tr>\n",
       "  </tbody>\n",
       "</table>\n",
       "</div>"
      ],
      "text/plain": [
       "   Dia_Habil  Turno  Zona  Uso  Sexo  Casco_Conductor  Tipo_Distraccion  \\\n",
       "0          1      2     3    1     1                1                 4   \n",
       "1          1      1     2    2     1                2                 1   \n",
       "\n",
       "   Tiene_Patente  Cantidad_Ocupantes  Uso_Casco  \n",
       "0              1                   1          1  \n",
       "1              1                   1          2  "
      ]
     },
     "execution_count": 149,
     "metadata": {},
     "output_type": "execute_result"
    }
   ],
   "source": [
    "from kmodes.kmodes import KModes\n",
    "\n",
    "km = KModes(n_clusters=2, init='Cao', n_init=50)\n",
    "\n",
    "# Ajusta el modelo a los datos\n",
    "clusters = km.fit_predict(df)\n",
    "\n",
    "centroides = km.cluster_centroids_\n",
    "centroides = pd.DataFrame(centroides, columns=df.columns)\n",
    "centroides"
   ]
  },
  {
   "cell_type": "markdown",
   "id": "b424c839",
   "metadata": {},
   "source": [
    "<h1 style=\"font-family: 'Lucida Sans', 'Lucida Sans Regular', 'Lucida Grande', 'Lucida Sans Unicode', Geneva, Verdana, sans-serif; text-align: justify; color: #3A405A;\">📊 Perfiles generados</h1>\n",
    "\n",
    "<br>\n",
    "\n",
    "<div style=\"background-color: #E8EAF6; padding: 20px; border-radius: 10px; box-shadow: 2px 2px 10px rgba(0, 0, 0, 0.1);\">\n",
    "    <p style=\"font-size: 18px; font-family: 'Verdana'; color: #3A405A; line-height: 1.5em;\">A partir de el algoritmo de aprendizaje no supervisado KModes, se generaron dos perfiles basados en las observaciones registradas.</p>\n",
    "</div>\n",
    "\n"
   ]
  },
  {
   "cell_type": "markdown",
   "id": "49509040",
   "metadata": {},
   "source": [
    "### Perfil 1 - Perfil seguro\n",
    "\n",
    "El perfil 1 circula en día laboral, durante la tarde en zona oeste. El motovehiculo es de uso particular, el sexo del conductor es masculino y usa casco. Este perfil no tiene distracciones aparentes, tiene patente y viaja solo. En caso de tener acompañante usa casco.\n",
    "\n",
    "\n",
    "### Perfil 2 - Perfil de riesgo\n",
    "\n",
    "El perfil 2 circula en día laboral, durante la mañana en zona norte. El motovehiculo es de uso comercial, el sexo del conductor es masculino y no usa casco. Este perfil tiene como distracción el uso de celular, tiene patente y viaja solo. En caso de tener acompañante no usa casco."
   ]
  },
  {
   "cell_type": "markdown",
   "id": "cd5dc917",
   "metadata": {},
   "source": [
    "<h1 style=\"font-family: 'Lucida Sans', 'Lucida Sans Regular', 'Lucida Grande', 'Lucida Sans Unicode', Geneva, Verdana, sans-serif; text-align: justify; color: #3A405A;\">📊 Conclusiones</h1>\n",
    "\n",
    "<br>\n",
    "\n",
    "<div style=\"background-color: #E8EAF6; padding: 20px; border-radius: 10px; box-shadow: 2px 2px 10px rgba(0, 0, 0, 0.1);\">\n",
    "    <p style=\"font-size: 18px; font-family: 'Verdana'; color: #3A405A; line-height: 1.5em;\">A partir de un dataset de observaciones de factores de riesgo en motovehiculos en Ciudad de Buenos Aires, se generó un modelo de aprendizaje no supervisado y se determinaron dos perfiles de conductores de motovehiculos.\n",
    "    Analizando las caracteristicas de ambos perfiles, se designaron un perfil de riesgo y uno seguro. <br>\n",
    "    A partir de estos perfiles generados, se sugiere realizar una clasificación de la población y generar una concientización y educación vial pertinente para reducir los factores de riesgo y la potencialidad de accidentes.</p>\n",
    "</div>\n",
    "\n"
   ]
  },
  {
   "cell_type": "code",
   "execution_count": null,
   "id": "e8f3d402",
   "metadata": {},
   "outputs": [],
   "source": []
  }
 ],
 "metadata": {
  "kernelspec": {
   "display_name": "Python 3 (ipykernel)",
   "language": "python",
   "name": "python3"
  },
  "language_info": {
   "codemirror_mode": {
    "name": "ipython",
    "version": 3
   },
   "file_extension": ".py",
   "mimetype": "text/x-python",
   "name": "python",
   "nbconvert_exporter": "python",
   "pygments_lexer": "ipython3",
   "version": "3.11.5"
  }
 },
 "nbformat": 4,
 "nbformat_minor": 5
}
